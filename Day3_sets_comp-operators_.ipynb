{
 "cells": [
  {
   "cell_type": "code",
   "execution_count": null,
   "metadata": {},
   "outputs": [],
   "source": [
    "s1 = {1.5,2,4.5}"
   ]
  },
  {
   "cell_type": "code",
   "execution_count": null,
   "metadata": {},
   "outputs": [],
   "source": [
    "type(s1)"
   ]
  },
  {
   "cell_type": "code",
   "execution_count": null,
   "metadata": {},
   "outputs": [],
   "source": [
    "s1"
   ]
  },
  {
   "cell_type": "code",
   "execution_count": null,
   "metadata": {},
   "outputs": [],
   "source": [
    "s1[0]"
   ]
  },
  {
   "cell_type": "code",
   "execution_count": null,
   "metadata": {},
   "outputs": [],
   "source": [
    "s1[0:2:1]"
   ]
  },
  {
   "cell_type": "code",
   "execution_count": null,
   "metadata": {},
   "outputs": [],
   "source": [
    "s1.add(5)"
   ]
  },
  {
   "cell_type": "code",
   "execution_count": null,
   "metadata": {},
   "outputs": [],
   "source": [
    "s1"
   ]
  },
  {
   "cell_type": "code",
   "execution_count": null,
   "metadata": {},
   "outputs": [],
   "source": [
    "s1.clear()"
   ]
  },
  {
   "cell_type": "code",
   "execution_count": null,
   "metadata": {},
   "outputs": [],
   "source": [
    "s1"
   ]
  },
  {
   "cell_type": "code",
   "execution_count": null,
   "metadata": {},
   "outputs": [],
   "source": [
    "s1 = {'a', 'b', 'c'}"
   ]
  },
  {
   "cell_type": "code",
   "execution_count": null,
   "metadata": {},
   "outputs": [],
   "source": [
    "s1"
   ]
  },
  {
   "cell_type": "code",
   "execution_count": null,
   "metadata": {},
   "outputs": [],
   "source": [
    "s2 = s1.copy()"
   ]
  },
  {
   "cell_type": "code",
   "execution_count": null,
   "metadata": {},
   "outputs": [],
   "source": [
    "s2"
   ]
  },
  {
   "cell_type": "code",
   "execution_count": null,
   "metadata": {},
   "outputs": [],
   "source": [
    "s3 = {1,2,3,4,4,4,5} #takes only unique values"
   ]
  },
  {
   "cell_type": "code",
   "execution_count": null,
   "metadata": {},
   "outputs": [],
   "source": [
    "s3"
   ]
  },
  {
   "cell_type": "code",
   "execution_count": null,
   "metadata": {},
   "outputs": [],
   "source": [
    "s3.add(4)"
   ]
  },
  {
   "cell_type": "code",
   "execution_count": null,
   "metadata": {},
   "outputs": [],
   "source": [
    "s3"
   ]
  },
  {
   "cell_type": "code",
   "execution_count": null,
   "metadata": {},
   "outputs": [],
   "source": [
    "s3.add(5)"
   ]
  },
  {
   "cell_type": "code",
   "execution_count": null,
   "metadata": {},
   "outputs": [],
   "source": [
    "s3"
   ]
  },
  {
   "cell_type": "code",
   "execution_count": null,
   "metadata": {},
   "outputs": [],
   "source": [
    "s3.add(6)"
   ]
  },
  {
   "cell_type": "code",
   "execution_count": null,
   "metadata": {},
   "outputs": [],
   "source": [
    "s3"
   ]
  },
  {
   "cell_type": "code",
   "execution_count": null,
   "metadata": {},
   "outputs": [],
   "source": [
    "s3.add('a')"
   ]
  },
  {
   "cell_type": "code",
   "execution_count": null,
   "metadata": {},
   "outputs": [],
   "source": [
    "s3"
   ]
  },
  {
   "cell_type": "code",
   "execution_count": null,
   "metadata": {},
   "outputs": [],
   "source": [
    "s3.add('a')"
   ]
  },
  {
   "cell_type": "code",
   "execution_count": null,
   "metadata": {},
   "outputs": [],
   "source": [
    "s3"
   ]
  },
  {
   "cell_type": "code",
   "execution_count": null,
   "metadata": {},
   "outputs": [],
   "source": [
    "s3.difference(s2)"
   ]
  },
  {
   "cell_type": "code",
   "execution_count": null,
   "metadata": {},
   "outputs": [],
   "source": [
    "s2.difference(s3)"
   ]
  },
  {
   "cell_type": "code",
   "execution_count": null,
   "metadata": {},
   "outputs": [],
   "source": [
    "s3.difference_update(s2)"
   ]
  },
  {
   "cell_type": "code",
   "execution_count": null,
   "metadata": {},
   "outputs": [],
   "source": [
    "s3"
   ]
  },
  {
   "cell_type": "code",
   "execution_count": null,
   "metadata": {},
   "outputs": [],
   "source": [
    "s3.add('a')"
   ]
  },
  {
   "cell_type": "code",
   "execution_count": null,
   "metadata": {},
   "outputs": [],
   "source": [
    "s3"
   ]
  },
  {
   "cell_type": "code",
   "execution_count": null,
   "metadata": {},
   "outputs": [],
   "source": [
    "a = True"
   ]
  },
  {
   "cell_type": "code",
   "execution_count": null,
   "metadata": {},
   "outputs": [],
   "source": [
    "type(a)"
   ]
  },
  {
   "cell_type": "code",
   "execution_count": null,
   "metadata": {},
   "outputs": [],
   "source": [
    "int(a)"
   ]
  },
  {
   "cell_type": "code",
   "execution_count": null,
   "metadata": {},
   "outputs": [],
   "source": [
    "a = 'hello'"
   ]
  },
  {
   "cell_type": "code",
   "execution_count": null,
   "metadata": {},
   "outputs": [],
   "source": [
    "b = 'hEllo'"
   ]
  },
  {
   "cell_type": "code",
   "execution_count": null,
   "metadata": {},
   "outputs": [],
   "source": [
    "a == b #case sensitive"
   ]
  },
  {
   "cell_type": "code",
   "execution_count": null,
   "metadata": {},
   "outputs": [],
   "source": [
    "x = 0"
   ]
  },
  {
   "cell_type": "code",
   "execution_count": null,
   "metadata": {},
   "outputs": [],
   "source": [
    "y = 1"
   ]
  },
  {
   "cell_type": "code",
   "execution_count": null,
   "metadata": {},
   "outputs": [],
   "source": [
    "x > y"
   ]
  },
  {
   "cell_type": "code",
   "execution_count": null,
   "metadata": {},
   "outputs": [],
   "source": [
    "x < y"
   ]
  },
  {
   "cell_type": "code",
   "execution_count": null,
   "metadata": {},
   "outputs": [],
   "source": [
    "x == y"
   ]
  },
  {
   "cell_type": "code",
   "execution_count": null,
   "metadata": {},
   "outputs": [],
   "source": [
    "x <= y"
   ]
  },
  {
   "cell_type": "code",
   "execution_count": null,
   "metadata": {},
   "outputs": [],
   "source": [
    "x >= y"
   ]
  },
  {
   "cell_type": "code",
   "execution_count": null,
   "metadata": {},
   "outputs": [],
   "source": [
    "int(False)"
   ]
  },
  {
   "cell_type": "code",
   "execution_count": null,
   "metadata": {},
   "outputs": [],
   "source": [
    "float(True)"
   ]
  },
  {
   "cell_type": "code",
   "execution_count": null,
   "metadata": {},
   "outputs": [],
   "source": [
    "a = input()"
   ]
  },
  {
   "cell_type": "code",
   "execution_count": null,
   "metadata": {},
   "outputs": [],
   "source": [
    "a"
   ]
  },
  {
   "cell_type": "code",
   "execution_count": null,
   "metadata": {},
   "outputs": [],
   "source": [
    "x = int (input(\"Enter a number:\"))"
   ]
  },
  {
   "cell_type": "code",
   "execution_count": null,
   "metadata": {},
   "outputs": [],
   "source": [
    "x"
   ]
  },
  {
   "cell_type": "code",
   "execution_count": null,
   "metadata": {},
   "outputs": [],
   "source": [
    "x = input()"
   ]
  },
  {
   "cell_type": "code",
   "execution_count": null,
   "metadata": {},
   "outputs": [],
   "source": [
    "x"
   ]
  },
  {
   "cell_type": "code",
   "execution_count": null,
   "metadata": {},
   "outputs": [],
   "source": [
    "n = float(input(\"Enter a decimal value:\"))"
   ]
  },
  {
   "cell_type": "code",
   "execution_count": null,
   "metadata": {},
   "outputs": [],
   "source": [
    "n"
   ]
  },
  {
   "cell_type": "code",
   "execution_count": null,
   "metadata": {},
   "outputs": [],
   "source": [
    "lunch = \"Bi\"\n",
    "\n",
    "if lunch == \"Kadhi Rice\":\n",
    "    print(\"Serve Priyanka\")\n",
    "elif lunch == \"Biryani\":\n",
    "    print(\"Serve Sanjay\")\n",
    "else:\n",
    "    print(\"Serve Suprabhat\")"
   ]
  },
  {
   "cell_type": "code",
   "execution_count": null,
   "metadata": {},
   "outputs": [],
   "source": [
    "loc = \"sector 22\"\n",
    "#loc = \"maruti vihar\"\n",
    "#loc = \"sector 23\"\n",
    "#loc = \"dexlab\"\n",
    "\n",
    "subl = input(\"Enter sub location:\")\n",
    "\n",
    "if loc == \"sector 22\":\n",
    "    if subl == \"cyberhub\":\n",
    "        print(\"suprabhat's home\")\n",
    "elif loc == \"sector 23\":\n",
    "    print(\"priyanka niwas\")\n",
    "else:\n",
    "    print(\"Sanjay ka ghar\")"
   ]
  },
  {
   "cell_type": "code",
   "execution_count": 1,
   "metadata": {},
   "outputs": [
    {
     "name": "stdout",
     "output_type": "stream",
     "text": [
      "Enter the cheese you want to have (Veggie/Cheese):VEGGIE\n",
      "Here is your Veggie Sandwich. Thank you!\n"
     ]
    }
   ],
   "source": [
    "sndw = input(\"Enter the cheese you want to have (Veggie/Cheese):\").lower()\n",
    "\n",
    "if sndw == \"Veggie\".lower():\n",
    "    print(\"Here is your Veggie Sandwich. Thank you!\")\n",
    "elif sndw == \"Cheese\".lower():\n",
    "    sndw_c = input(\"Which kind of Cheese Sandwich do you want (Machengo/Cheddar)?:\")\n",
    "    if sndw_c == \"Machengo\".lower():\n",
    "        print(\"Here is your Machengo Cheese Sandwich. Thank you!\")\n",
    "    elif sndw_c == \"Cheddar\".lower():\n",
    "        print(\"Here is your Cheddar Cheese Sandwich. Thank you!\")\n",
    "    else:\n",
    "        print(\"Kindly provide cheese type input\")\n",
    "else:\n",
    "    print(\"We do not have what you have asked for. Sorry!\")"
   ]
  },
  {
   "cell_type": "code",
   "execution_count": 16,
   "metadata": {},
   "outputs": [
    {
     "name": "stdout",
     "output_type": "stream",
     "text": [
      "Enter the value of human years to convert into dog year:4\n",
      "The equivalent dog years are: 29.0\n"
     ]
    }
   ],
   "source": [
    "hy_u = float(input (\"Enter the value of human years to convert into dog year:\"))\n",
    "if hy_u <= 2.0:\n",
    "    dy_u = hy_u * 10.5\n",
    "    print(\"The equivalent dog years are:\",dy_u)\n",
    "else:\n",
    "    dy_u = (hy_u - 2)*4 + 21\n",
    "    print(\"The equivalent dog years are:\", dy_u)"
   ]
  },
  {
   "cell_type": "code",
   "execution_count": 1,
   "metadata": {},
   "outputs": [
    {
     "name": "stdout",
     "output_type": "stream",
     "text": [
      "Enter the number of minutes used in a month:60\n",
      "Enter the number of sms used in a month:60\n",
      "Base plan cost per minutes: $0.25\n",
      "Base plan cost per sms: $0.15\n",
      "Total monthly additional minutes consumed:  10\n",
      "Additional cost for extra minues consumed: $ 2.5\n",
      "Total monthly additional sms consumed:  10\n",
      "Additional cost for extra sms consumed: $ 1.5\n",
      "Cost for 911 Support: $0.44\n",
      "Total tax @ 5% on bill is: $ 0.9720000000000001\n",
      "Total monthly bill is: $ 20.412000000000003\n"
     ]
    }
   ],
   "source": [
    "#Usage for mobile service for a customer\n",
    "u_min = int(input(\"Enter the number of minutes used in a month:\"))\n",
    "u_sms = int(input(\"Enter the number of sms used in a month:\"))\n",
    "\n",
    "if u_min <= 50:\n",
    "    tc_u_min = 0\n",
    "else:\n",
    "    tc_u_min = (u_min - 50)*0.25\n",
    "\n",
    "if u_sms <= 50:\n",
    "    tc_u_sms = 0\n",
    "else:\n",
    "    tc_u_sms = (u_sms - 50)*0.15\n",
    "\n",
    "bill = (15 + tc_u_min + tc_u_sms + 0.44)\n",
    "tax = bill*0.05\n",
    "t_bill = bill + tax\n",
    "\n",
    "print(\"Base plan cost per minutes: $0.25\")\n",
    "print(\"Base plan cost per sms: $0.15\")\n",
    "print(\"Total monthly additional minutes consumed: \",u_min-50)\n",
    "print(\"Additional cost for extra minues consumed: $\",tc_u_min)\n",
    "print(\"Total monthly additional sms consumed: \",u_sms-50)\n",
    "print(\"Additional cost for extra sms consumed: $\",tc_u_sms)\n",
    "print(\"Cost for 911 Support: $0.44\")\n",
    "print(\"Total tax @ 5% on bill is: $\",tax)\n",
    "print(\"Total monthly bill is: $\",t_bill)"
   ]
  },
  {
   "cell_type": "code",
   "execution_count": null,
   "metadata": {},
   "outputs": [],
   "source": []
  }
 ],
 "metadata": {
  "kernelspec": {
   "display_name": "Python 3",
   "language": "python",
   "name": "python3"
  },
  "language_info": {
   "codemirror_mode": {
    "name": "ipython",
    "version": 3
   },
   "file_extension": ".py",
   "mimetype": "text/x-python",
   "name": "python",
   "nbconvert_exporter": "python",
   "pygments_lexer": "ipython3",
   "version": "3.7.3"
  }
 },
 "nbformat": 4,
 "nbformat_minor": 2
}
