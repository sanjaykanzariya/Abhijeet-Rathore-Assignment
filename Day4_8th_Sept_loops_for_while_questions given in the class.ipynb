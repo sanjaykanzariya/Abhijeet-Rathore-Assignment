{
 "cells": [
  {
   "cell_type": "code",
   "execution_count": 3,
   "metadata": {},
   "outputs": [
    {
     "name": "stdout",
     "output_type": "stream",
     "text": [
      "Hello\n",
      "Hello\n",
      "Hello\n"
     ]
    }
   ],
   "source": [
    "for i in range(0,5,2):\n",
    "    print(\"Hello\")"
   ]
  },
  {
   "cell_type": "code",
   "execution_count": 5,
   "metadata": {},
   "outputs": [
    {
     "name": "stdout",
     "output_type": "stream",
     "text": [
      "The number is even:  0\n",
      "The number is odd:   1\n",
      "The number is even:  2\n",
      "The number is odd:   3\n",
      "The number is even:  4\n",
      "The number is odd:   5\n",
      "The number is even:  6\n",
      "The number is odd:   7\n",
      "The number is even:  8\n",
      "The number is odd:   9\n"
     ]
    }
   ],
   "source": [
    "for n in range(0,10):\n",
    "    if(n % 2 == 0):\n",
    "        print (\"The number is even: \", n)\n",
    "    else:\n",
    "        print(\"The number is odd:  \", n)"
   ]
  },
  {
   "cell_type": "code",
   "execution_count": 15,
   "metadata": {},
   "outputs": [
    {
     "name": "stdout",
     "output_type": "stream",
     "text": [
      "Enter the number of strudents: 3\n",
      "Enter the name of the student: Sanjay\n",
      "Enter the score of the student (Decimal value accepted): 50.4\n",
      "Enter the name of the student: Sapna\n",
      "Enter the score of the student (Decimal value accepted): 60.3\n",
      "Enter the name of the student: Meenu\n",
      "Enter the score of the student (Decimal value accepted): 99\n",
      "The highest mark scored is:  99.0\n",
      "The student who scored highest mark is:  Meenu\n"
     ]
    }
   ],
   "source": [
    "# Write a program that prompts the user to enter the number of students\n",
    "# and each student’s score, and displays the highest score.\n",
    "n_std = int(input(\"Enter the number of strudents: \"))\n",
    "highest_mark = 0\n",
    "for i in range(0, n_std):\n",
    "    std_name = input(\"Enter the name of the student: \")\n",
    "    std_score = float(input(\"Enter the score of the student (Decimal value accepted): \"))\n",
    "    if (std_score > highest_mark):\n",
    "        highest_mark = std_score\n",
    "        highest_mark_std = std_name\n",
    "print(\"The highest mark scored is: \", highest_mark)\n",
    "print(\"The student who scored highest mark is: \", std_name)"
   ]
  },
  {
   "cell_type": "code",
   "execution_count": 28,
   "metadata": {},
   "outputs": [
    {
     "name": "stdout",
     "output_type": "stream",
     "text": [
      "120 150 180 210 240 270 300 330 360 390\n",
      "420 450 480 510 540 570 600 630 660 690\n",
      "720 750 780 810 840 870 900 930 960 990\n"
     ]
    }
   ],
   "source": [
    "# Write a program that displays, ten numbers per line, all the numbers from 100 to 1,000 that are divisible by 5 and 6. \n",
    "# The numbers are separated by exactly one space.\n",
    "lst = []\n",
    "count = 1\n",
    "for n in range(100, 1000):\n",
    "    if(n % 5 == 0 and n % 6 == 0):\n",
    "        if(count % 10 != 0):\n",
    "            print(n, end = \" \")\n",
    "        else:\n",
    "            print(n)\n",
    "        count = count + 1"
   ]
  },
  {
   "cell_type": "code",
   "execution_count": 52,
   "metadata": {},
   "outputs": [
    {
     "name": "stdout",
     "output_type": "stream",
     "text": [
      "120 150 180 210 240 270 300 330 360 390\n",
      "420 450 480 510 540 570 600 630 660 690\n",
      "720 750 780 810 840 870 900 930 960 990\n"
     ]
    }
   ],
   "source": [
    "# Write a program that displays, ten numbers per line, all the numbers from 100 to 1,000 that are divisible by 5 and 6. \n",
    "# The numbers are separated by exactly one space.\n",
    "\n",
    "lst = []\n",
    "count = 1\n",
    "for n in range(100, 1000):\n",
    "    if(n % 5 == 0 and n % 6 == 0):\n",
    "        lst.append(n)\n",
    "for i in range(0,len(lst)):\n",
    "    if(count % 10 !=0):\n",
    "        print(lst[i], end = \" \")\n",
    "    else:\n",
    "        print(lst[i], end = \"\\n\")\n",
    "    count = count + 1"
   ]
  },
  {
   "cell_type": "code",
   "execution_count": null,
   "metadata": {},
   "outputs": [],
   "source": [
    "# Write a program that displays, ten numbers per line, all the numbers from 100 to 1,000 that are divisible by 5 and 6. \n",
    "# The numbers are separated by exactly one space.\n",
    "\n",
    "l1 = []\n",
    "l2 = []\n",
    "l3 = []\n",
    "count = 1\n",
    "for n in range(100, 1000):\n",
    "    if(n % 5 == 0 and n % 6 == 0):\n",
    "        lst.append(n)\n",
    "for i in range(0,len(lst)):\n",
    "    if(count % 10 !=0):\n",
    "        print(lst[i], end = \" \")\n",
    "    else:\n",
    "        print(lst[i], end = \"\\n\")\n",
    "    count = count + 1"
   ]
  },
  {
   "cell_type": "code",
   "execution_count": 68,
   "metadata": {},
   "outputs": [
    {
     "name": "stdout",
     "output_type": "stream",
     "text": [
      "Ener the string value (Alphanumeric value): SANJAY1287\n",
      "The total length of the entered string is: 10\n",
      "The total number of numeric characters in string is: 4\n",
      "The total number of string characters in string is: 6\n"
     ]
    }
   ],
   "source": [
    "# Write a Python program that accepts a string and calculate the number of digits and letters.\n",
    "i_count = 0\n",
    "s_count = 0\n",
    "str1 = input(\"Ener the string value (Alphanumeric value): \")\n",
    "\n",
    "for i in range(0,len(str1)):\n",
    "    if (str1[i].isalpha() == False):\n",
    "        i_count = i_count + 1\n",
    "    elif (str1[i].isalpha() == True):\n",
    "        s_count = s_count + 1\n",
    "\n",
    "print(\"The total length of the entered string is:\",len(str1))\n",
    "print(\"The total number of numeric characters in string is:\",i_count)\n",
    "print(\"The total number of string characters in string is:\",s_count)"
   ]
  },
  {
   "cell_type": "code",
   "execution_count": 72,
   "metadata": {},
   "outputs": [
    {
     "name": "stdout",
     "output_type": "stream",
     "text": [
      "Hello\n",
      "Hello\n",
      "Hello\n",
      "Hello\n",
      "Hello\n",
      "Hello\n",
      "Hello\n",
      "Hello\n",
      "Hello\n",
      "Hello\n"
     ]
    }
   ],
   "source": [
    "con = 0\n",
    "while con < 10:\n",
    "    print(\"Hello\")\n",
    "    con += 1"
   ]
  },
  {
   "cell_type": "code",
   "execution_count": 77,
   "metadata": {},
   "outputs": [
    {
     "name": "stdout",
     "output_type": "stream",
     "text": [
      "1 is ODD\n",
      "2 is EVEN\n",
      "3 is ODD\n",
      "4 is EVEN\n",
      "5 is ODD\n",
      "6 is EVEN\n",
      "7 is ODD\n",
      "8 is EVEN\n"
     ]
    }
   ],
   "source": [
    "# Even and Odd using While loop\n",
    "lst1 = [1,2,3,4,5,6,7,8]\n",
    "i = 0\n",
    "while i < len(lst1):\n",
    "    if (lst1[i] % 2 == 0):\n",
    "        print(lst1[i],\"is EVEN\")\n",
    "    else:\n",
    "        print(lst1[i],\"is ODD\")\n",
    "    i += 1"
   ]
  },
  {
   "cell_type": "code",
   "execution_count": 81,
   "metadata": {},
   "outputs": [
    {
     "name": "stdout",
     "output_type": "stream",
     "text": [
      "Enter the first divisor value:3\n",
      "Enter the second divisor value:6\n",
      "The small number is: 3\n",
      "The large number is: 6\n",
      "The GCD is: 1\n"
     ]
    }
   ],
   "source": [
    "# Find out greatest common divisor using while loop\n",
    "n = int(input(\"Enter the first divisor value:\"))\n",
    "m = int(input(\"Enter the second divisor value:\"))\n",
    "i = 1\n",
    "\n",
    "if (n < m):\n",
    "    small = n\n",
    "    large = m\n",
    "else:\n",
    "    small = m\n",
    "    large = n\n",
    "\n",
    "while i < small:\n",
    "    if ((n % i == 0) and (m % i == 0)):\n",
    "        gcd = i\n",
    "    i += 1\n",
    "print(\"The small number is:\",small)\n",
    "print(\"The large number is:\",large)\n",
    "print(\"The GCD is:\",gcd)"
   ]
  },
  {
   "cell_type": "code",
   "execution_count": 91,
   "metadata": {},
   "outputs": [
    {
     "name": "stdout",
     "output_type": "stream",
     "text": [
      "This is the program to guess the randomly generated value!! Try your luck :)\n",
      "Guess the value:33\n",
      "The number you entered is lower than the system generated number!\n",
      "Guess the value:45\n",
      "The number you entered is lower than the system generated number!\n",
      "Guess the value:55\n",
      "The number you entered is lower than the system generated number!\n",
      "Guess the value:60\n",
      "The number you entered is lower than the system generated number!\n",
      "Guess the value:70\n",
      "The number you entered is lower than the system generated number!\n",
      "Guess the value:80\n",
      "The number you entered is higher than the system generated number!\n",
      "Guess the value:75\n",
      "The number you entered is lower than the system generated number!\n",
      "Guess the value:77\n",
      "The number you entered is lower than the system generated number!\n",
      "Guess the value:79\n",
      "Bingo! You got it!\n",
      "The system generated number is:  79\n"
     ]
    }
   ],
   "source": [
    "# Guess the number entered by user.\n",
    "import random\n",
    "n = random.randint(0,100)\n",
    "print(\"This is the program to guess the randomly generated value!! Try your luck :)\")\n",
    "\n",
    "while x != n:\n",
    "    x = int(input(\"Guess the value: \"))\n",
    "    if(x < n):\n",
    "        print(\"The number you entered is lower than the system generated number!\")\n",
    "    elif (x > n):\n",
    "        print(\"The number you entered is higher than the system generated number!\")\n",
    "    else:\n",
    "        print(\"Bingo! You got it!\")\n",
    "\n",
    "print(\"The system generated number is: \",n)"
   ]
  },
  {
   "cell_type": "code",
   "execution_count": 103,
   "metadata": {},
   "outputs": [
    {
     "name": "stdout",
     "output_type": "stream",
     "text": [
      "0\n",
      "1\n",
      "2\n",
      "3\n",
      "4\n"
     ]
    }
   ],
   "source": [
    "for i in range(10):\n",
    "    if i == 5:\n",
    "        break\n",
    "    print(i)"
   ]
  },
  {
   "cell_type": "code",
   "execution_count": null,
   "metadata": {},
   "outputs": [],
   "source": []
  }
 ],
 "metadata": {
  "kernelspec": {
   "display_name": "Python 3",
   "language": "python",
   "name": "python3"
  },
  "language_info": {
   "codemirror_mode": {
    "name": "ipython",
    "version": 3
   },
   "file_extension": ".py",
   "mimetype": "text/x-python",
   "name": "python",
   "nbconvert_exporter": "python",
   "pygments_lexer": "ipython3",
   "version": "3.7.3"
  }
 },
 "nbformat": 4,
 "nbformat_minor": 2
}
